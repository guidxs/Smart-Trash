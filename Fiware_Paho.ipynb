{
  "nbformat": 4,
  "nbformat_minor": 0,
  "metadata": {
    "colab": {
      "provenance": []
    },
    "kernelspec": {
      "name": "python3",
      "display_name": "Python 3"
    },
    "language_info": {
      "name": "python"
    }
  },
  "cells": [
    {
      "cell_type": "markdown",
      "source": [
        "Instalação a biblioteca Paho MQTT"
      ],
      "metadata": {
        "id": "GhTiyNfiGh2I"
      }
    },
    {
      "cell_type": "code",
      "execution_count": 1,
      "metadata": {
        "colab": {
          "base_uri": "https://localhost:8080/"
        },
        "id": "R5A26Nn4GKP4",
        "outputId": "d858c2fa-e5f4-408e-c5a6-d7f7f701aadf"
      },
      "outputs": [
        {
          "output_type": "stream",
          "name": "stdout",
          "text": [
            "Collecting paho-mqtt\n",
            "  Downloading paho-mqtt-1.6.1.tar.gz (99 kB)\n",
            "\u001b[?25l     \u001b[90m━━━━━━━━━━━━━━━━━━━━━━━━━━━━━━━━━━━━━━━━\u001b[0m \u001b[32m0.0/99.4 kB\u001b[0m \u001b[31m?\u001b[0m eta \u001b[36m-:--:--\u001b[0m\r\u001b[2K     \u001b[91m━━━━━━━━━━━━━━━━━━━━━━━━━━━━\u001b[0m\u001b[91m╸\u001b[0m\u001b[90m━━━━━━━━━━━\u001b[0m \u001b[32m71.7/99.4 kB\u001b[0m \u001b[31m1.9 MB/s\u001b[0m eta \u001b[36m0:00:01\u001b[0m\r\u001b[2K     \u001b[90m━━━━━━━━━━━━━━━━━━━━━━━━━━━━━━━━━━━━━━━━\u001b[0m \u001b[32m99.4/99.4 kB\u001b[0m \u001b[31m2.1 MB/s\u001b[0m eta \u001b[36m0:00:00\u001b[0m\n",
            "\u001b[?25h  Preparing metadata (setup.py) ... \u001b[?25l\u001b[?25hdone\n",
            "Building wheels for collected packages: paho-mqtt\n",
            "  Building wheel for paho-mqtt (setup.py) ... \u001b[?25l\u001b[?25hdone\n",
            "  Created wheel for paho-mqtt: filename=paho_mqtt-1.6.1-py3-none-any.whl size=62117 sha256=5ba2858889ea6f85e06b9905c5be8065d87b43aeb966e5d6e6e9c61007e1b5fd\n",
            "  Stored in directory: /root/.cache/pip/wheels/8b/bb/0c/79444d1dee20324d442856979b5b519b48828b0bd3d05df84a\n",
            "Successfully built paho-mqtt\n",
            "Installing collected packages: paho-mqtt\n",
            "Successfully installed paho-mqtt-1.6.1\n"
          ]
        }
      ],
      "source": [
        "!pip install paho-mqtt"
      ]
    },
    {
      "cell_type": "markdown",
      "source": [
        "Leitura tópico (Subscriber)"
      ],
      "metadata": {
        "id": "jOh0NtW8Gb8X"
      }
    },
    {
      "cell_type": "code",
      "source": [
        "import paho.mqtt.client as mqtt\n",
        "\n",
        "# A função de callback quando o cliente recebe uma resposta CONNACK do servidor.\n",
        "def on_connect(client, userdata, flags, rc):\n",
        "    print(\"Conectado com código de resultado \"+str(rc))\n",
        "\n",
        "    # Assinando o tópico no on_connect(), significa que, se perdermos a conexão e reconectarmos, as inscrições serão renovadas.\n",
        "    client.subscribe(\"/TEF/sensor111/distance\")\n",
        "\n",
        "# A função de callback quando uma mensagem PUBLISH é recebida do servidor.\n",
        "def on_message(client, userdata, msg):\n",
        "    print(msg.topic+\" \"+str(msg.payload))\n",
        "\n",
        "client = mqtt.Client()\n",
        "client.on_connect = on_connect\n",
        "client.on_message = on_message\n",
        "\n",
        "client.connect(\"46.17.108.113\", 1883, 60)  # Conecta ao servidor MQTT\n",
        "\n",
        "# Chamada bloqueante que processa o tráfego de rede, despacha callbacks e lida com reconexões.\n",
        "# Outras funções loop*() estão disponíveis que fornecem uma interface com threads e uma interface manual.\n",
        "client.loop_forever()\n"
      ],
      "metadata": {
        "colab": {
          "base_uri": "https://localhost:8080/"
        },
        "id": "25AQDhxZGtM0",
        "outputId": "7d321758-75d2-448b-eab8-c42a3347e6c2"
      },
      "execution_count": null,
      "outputs": [
        {
          "output_type": "stream",
          "name": "stdout",
          "text": [
            "Conectado com código de resultado 0\n",
            "/TEF/lamp111/distance b'Porcentagem: 64.0'\n"
          ]
        }
      ]
    }
  ]
}
